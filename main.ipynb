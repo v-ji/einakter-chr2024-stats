{
 "cells": [
  {
   "cell_type": "code",
   "execution_count": 1,
   "metadata": {},
   "outputs": [],
   "source": [
    "import os\n",
    "\n",
    "import polars as pl\n",
    "import scipy.stats as stats\n",
    "import matplotlib.pyplot as plt\n",
    "import seaborn as sns\n",
    "import numpy as np\n",
    "\n",
    "\n",
    "from lib import to_latex, shapiro_wilk, mann_whitney\n",
    "\n",
    "dataset_url = \"https://github.com/dracor-org/einakter/releases/download/v1.5.0/einakter-v1.5.0.json\"  # For printing warning message -- we don't access the network from this notebook\n",
    "\n",
    "sns.set_theme(font_scale=1.00, rc={\"figure.figsize\": (7, 4), \"figure.autolayout\": True})\n",
    "\n",
    "# Constants\n",
    "confidence_level = 0.95\n",
    "dracor_blue = \"#1f2448\"\n",
    "dpi = 300\n",
    "\n",
    "\n",
    "# The dataset is expected to be located at dataset_path.\n",
    "# Nix will automatically create a symlink to the dataset in the working directory.\n",
    "dataset_path = \"data/einakter.json\"\n",
    "if not os.path.isfile(dataset_path):\n",
    "    print(f\"Dataset not found at {dataset_path}\")\n",
    "    print(\n",
    "        f\"Nix (https://nixos.org/) is recommended for reproducibility. It will automatically download the dataset for you.\"\n",
    "    )\n",
    "    print(\n",
    "        f\"Alternatively, download the dataset manually and place it at {dataset_path}\"\n",
    "    )\n",
    "    print(f\"Using curl:\")\n",
    "    print(f\"  $ curl -L '{dataset_url}' -o {dataset_path}\")\n",
    "\n",
    "    raise Exception(f\"Dataset not found at {dataset_path}\")\n",
    "\n",
    "\n",
    "einakter = pl.read_json(dataset_path)"
   ]
  },
  {
   "cell_type": "code",
   "execution_count": 2,
   "metadata": {},
   "outputs": [],
   "source": [
    "# Read GerDraCor data\n",
    "gerdracor = (\n",
    "    pl.read_json(\"data/gerdracor.json\")\n",
    "    .select(\n",
    "        \"id\",\n",
    "        acts_n=\"numOfActs\",\n",
    "        scenes_n=\"numOfSegments\",\n",
    "        characters_n=\"numOfSpeakers\",\n",
    "        year_norm=\"yearNormalized\",\n",
    "    )\n",
    "    .filter(\n",
    "        # Filter to Einakter DB time period\n",
    "        ((1740 <= pl.col(\"year_norm\")) & (pl.col(\"year_norm\") <= 1850))\n",
    "        & ((2 <= pl.col(\"acts_n\")) & (pl.col(\"acts_n\") <= 5))\n",
    "    )\n",
    ")\n",
    "\n",
    "# Combine the two datasets\n",
    "einakter_and_gerdracor = pl.concat(\n",
    "    [\n",
    "        gerdracor.with_columns(Dataset=pl.lit(\"GerDraCor\")),\n",
    "        einakter.select(\n",
    "            \"id\",\n",
    "            acts_n=pl.lit(1),\n",
    "            # Adjust column names\n",
    "            scenes_n=\"numberOfScenes\",\n",
    "            characters_n=\"numberOfCharacters\",\n",
    "            year_norm=\"normalizedYear\",\n",
    "            # Add dataset column\n",
    "            Dataset=pl.lit(\"Einakter Database\"),\n",
    "        ),\n",
    "    ],\n",
    "    how=\"vertical_relaxed\",\n",
    ")"
   ]
  },
  {
   "cell_type": "markdown",
   "metadata": {},
   "source": [
    "## Q1 Subtitle categorisation\n",
    "\n",
    "Which dramatic category do the one-act plays of the period under investigation belong to?"
   ]
  },
  {
   "cell_type": "code",
   "execution_count": 3,
   "metadata": {},
   "outputs": [
    {
     "name": "stdout",
     "output_type": "stream",
     "text": [
      "Saved to latex/categories.tex\n"
     ]
    }
   ],
   "source": [
    "import re\n",
    "\n",
    "\n",
    "# Aggregate and count the most common subtitles\n",
    "def extract_category(subtitle: str) -> str:\n",
    "    cat_patterns = {\n",
    "        \"Drama\": \"(^|\\W)Dramas?($|\\s)\",\n",
    "        \"Lustspiel\": \"(Lusts?piel|(K|C)om(ö|oe)die)\",  # Lustspiel, Lustpiel, Komoedie, Komödie, Comödie etc.\n",
    "        \"Nachspiel\": \"Nachspiel\",\n",
    "        \"Posse\": \"Posse\",\n",
    "        \"Schauspiel\": \"Schauspiel\",\n",
    "        \"Schwank\": \"Schwank\",\n",
    "        \"Trauerspiel\": \"(Trauerspiel|Tragödie)\",\n",
    "        \"Vorspiel\": \"Vorspiel\",\n",
    "    }\n",
    "    for cat, pattern in cat_patterns.items():\n",
    "        if re.search(pattern, subtitle, re.IGNORECASE):\n",
    "            return cat\n",
    "    return None\n",
    "\n",
    "\n",
    "subtitles = einakter.with_columns(\n",
    "    # map_elements is a lot slower than native expressions, but more legible\n",
    "    category=pl.col(\"subtitle\").map_elements(extract_category)\n",
    ")\n",
    "\n",
    "\n",
    "subtitles_agg = (\n",
    "    subtitles.select(pl.col(\"category\").value_counts())\n",
    "    .unnest(\"category\")\n",
    "    # Add percentages\n",
    "    .with_columns(\n",
    "        percent=pl.col(\"count\") / pl.col(\"count\").sum() * 100,\n",
    "        ci=pl.col(\"count\")\n",
    "        .map_elements(\n",
    "            lambda k: stats.binomtest(k, subtitles.height).proportion_ci(\n",
    "                confidence_level, method=\"exact\"  # Use Clopper-Pearson method\n",
    "            ),\n",
    "            return_dtype=pl.List(pl.Float64),\n",
    "        )\n",
    "        .list.eval(pl.element() * 100),\n",
    "    )\n",
    "    .sort(pl.col(\"category\").is_null(), \"count\", descending=[False, True])\n",
    ")\n",
    "\n",
    "# Subtitle mapping\n",
    "subtitle_mapping = {\n",
    "    \"Drama\": \"\",\n",
    "    \"Lustspiel\": \"Comedy\",\n",
    "    \"Nachspiel\": \"Postlude\",\n",
    "    \"Posse\": \"Farce\",\n",
    "    \"Schauspiel\": \"\",\n",
    "    \"Schwank\": \"\",\n",
    "    \"Trauerspiel\": \"Tragedy\",\n",
    "    \"Vorspiel\": \"Prelude\",\n",
    "}\n",
    "\n",
    "to_latex(\n",
    "    subtitles_agg.select(\n",
    "        pl.col(\"category\").alias(\"Category\"),\n",
    "        pl.col(\"category\").replace(subtitle_mapping).alias(\"\"),\n",
    "        pl.col(\"count\").alias(\"n\"),\n",
    "        pl.col(\"percent\").alias(\"Percent\"),\n",
    "        pl.col(\"ci\"),\n",
    "    ),\n",
    "    caption=\"Distribution of categories in the dataset with binomial confidence intervals.\",\n",
    "    label=\"tab:categories\",\n",
    "    na_rep=\"Other\",\n",
    ")"
   ]
  },
  {
   "cell_type": "markdown",
   "metadata": {},
   "source": [
    "## Q2 Number of scenes\n",
    "Is there a difference in the *number of scenes per act* between German one-act plays and other German plays of the same period?"
   ]
  },
  {
   "cell_type": "code",
   "execution_count": 4,
   "metadata": {},
   "outputs": [],
   "source": [
    "# Prepare dataframe for Q2 analysis\n",
    "einakter_and_gerdracor_q2 = (\n",
    "    einakter_and_gerdracor.drop_nulls(\"scenes_n\")\n",
    "    .with_columns(\n",
    "        # Calculate the number of scenes per act\n",
    "        scenes_per_act=(pl.col(\"scenes_n\") / pl.col(\"acts_n\"))\n",
    "    )\n",
    "    .filter(\n",
    "        # Exclude some plays due to encoding idiosyncrasies\n",
    "        # \"Das Haus der Temperamente\" https://dracor.org/id/ger000341\n",
    "        # \"Zu ebener Erde und erster Stock oder Die Launen des Glückes\" https://dracor.org/id/ger000028\n",
    "        (pl.col(\"id\").is_in([\"ger000341\", \"ger000028\"]).not_())\n",
    "    )\n",
    ")"
   ]
  },
  {
   "cell_type": "code",
   "execution_count": 5,
   "metadata": {},
   "outputs": [
    {
     "name": "stdout",
     "output_type": "stream",
     "text": [
      "Shapiro-Wilk Test: W=0.991869876974901, p=4.5303368222386643e-10\n",
      "The data is not normally distributed.\n",
      "Shapiro-Wilk Test: W=0.39158322647778987, p=3.8658727204157985e-29\n",
      "The data is not normally distributed.\n"
     ]
    },
    {
     "data": {
      "text/html": [
       "<div><style>\n",
       ".dataframe > thead > tr,\n",
       ".dataframe > tbody > tr {\n",
       "  text-align: right;\n",
       "  white-space: pre-wrap;\n",
       "}\n",
       "</style>\n",
       "<small>shape: (2_856, 6)</small><table border=\"1\" class=\"dataframe\"><thead><tr><th>id</th><th>acts_n</th><th>scenes_n</th><th>characters_n</th><th>year_norm</th><th>Dataset</th></tr><tr><td>str</td><td>i64</td><td>i64</td><td>i64</td><td>i64</td><td>str</td></tr></thead><tbody><tr><td>&quot;ein000001&quot;</td><td>1</td><td>22</td><td>6</td><td>1842</td><td>&quot;Einakter Datab…</td></tr><tr><td>&quot;ein000002&quot;</td><td>1</td><td>17</td><td>7</td><td>1818</td><td>&quot;Einakter Datab…</td></tr><tr><td>&quot;ein000003&quot;</td><td>1</td><td>6</td><td>2</td><td>1821</td><td>&quot;Einakter Datab…</td></tr><tr><td>&quot;ein000004&quot;</td><td>1</td><td>14</td><td>5</td><td>1821</td><td>&quot;Einakter Datab…</td></tr><tr><td>&quot;ein000005&quot;</td><td>1</td><td>12</td><td>5</td><td>1819</td><td>&quot;Einakter Datab…</td></tr><tr><td>&hellip;</td><td>&hellip;</td><td>&hellip;</td><td>&hellip;</td><td>&hellip;</td><td>&hellip;</td></tr><tr><td>&quot;ger000295&quot;</td><td>4</td><td>39</td><td>26</td><td>1828</td><td>&quot;GerDraCor&quot;</td></tr><tr><td>&quot;ger000607&quot;</td><td>3</td><td>24</td><td>6</td><td>1836</td><td>&quot;GerDraCor&quot;</td></tr><tr><td>&quot;ger000505&quot;</td><td>2</td><td>9</td><td>7</td><td>1835</td><td>&quot;GerDraCor&quot;</td></tr><tr><td>&quot;ger000612&quot;</td><td>4</td><td>29</td><td>6</td><td>1825</td><td>&quot;GerDraCor&quot;</td></tr><tr><td>&quot;ger000275&quot;</td><td>5</td><td>39</td><td>17</td><td>1795</td><td>&quot;GerDraCor&quot;</td></tr></tbody></table></div>"
      ],
      "text/plain": [
       "shape: (2_856, 6)\n",
       "┌───────────┬────────┬──────────┬──────────────┬───────────┬───────────────────┐\n",
       "│ id        ┆ acts_n ┆ scenes_n ┆ characters_n ┆ year_norm ┆ Dataset           │\n",
       "│ ---       ┆ ---    ┆ ---      ┆ ---          ┆ ---       ┆ ---               │\n",
       "│ str       ┆ i64    ┆ i64      ┆ i64          ┆ i64       ┆ str               │\n",
       "╞═══════════╪════════╪══════════╪══════════════╪═══════════╪═══════════════════╡\n",
       "│ ein000001 ┆ 1      ┆ 22       ┆ 6            ┆ 1842      ┆ Einakter Database │\n",
       "│ ein000002 ┆ 1      ┆ 17       ┆ 7            ┆ 1818      ┆ Einakter Database │\n",
       "│ ein000003 ┆ 1      ┆ 6        ┆ 2            ┆ 1821      ┆ Einakter Database │\n",
       "│ ein000004 ┆ 1      ┆ 14       ┆ 5            ┆ 1821      ┆ Einakter Database │\n",
       "│ ein000005 ┆ 1      ┆ 12       ┆ 5            ┆ 1819      ┆ Einakter Database │\n",
       "│ …         ┆ …      ┆ …        ┆ …            ┆ …         ┆ …                 │\n",
       "│ ger000295 ┆ 4      ┆ 39       ┆ 26           ┆ 1828      ┆ GerDraCor         │\n",
       "│ ger000607 ┆ 3      ┆ 24       ┆ 6            ┆ 1836      ┆ GerDraCor         │\n",
       "│ ger000505 ┆ 2      ┆ 9        ┆ 7            ┆ 1835      ┆ GerDraCor         │\n",
       "│ ger000612 ┆ 4      ┆ 29       ┆ 6            ┆ 1825      ┆ GerDraCor         │\n",
       "│ ger000275 ┆ 5      ┆ 39       ┆ 17           ┆ 1795      ┆ GerDraCor         │\n",
       "└───────────┴────────┴──────────┴──────────────┴───────────┴───────────────────┘"
      ]
     },
     "execution_count": 5,
     "metadata": {},
     "output_type": "execute_result"
    }
   ],
   "source": [
    "# Check scenes_n for normality\n",
    "\n",
    "(\n",
    "    einakter_and_gerdracor.group_by(\"Dataset\").map_groups(\n",
    "        lambda df: shapiro_wilk(df[\"scenes_n\"].drop_nulls()) and df\n",
    "    )\n",
    ")"
   ]
  },
  {
   "cell_type": "code",
   "execution_count": 6,
   "metadata": {},
   "outputs": [
    {
     "data": {
      "text/html": [
       "<div><style>\n",
       ".dataframe > thead > tr,\n",
       ".dataframe > tbody > tr {\n",
       "  text-align: right;\n",
       "  white-space: pre-wrap;\n",
       "}\n",
       "</style>\n",
       "<small>shape: (6, 5)</small><table border=\"1\" class=\"dataframe\"><thead><tr><th>Dataset</th><th>acts_n</th><th>n</th><th>scenes_per_act_mean</th><th>ci</th></tr><tr><td>str</td><td>i64</td><td>u32</td><td>f64</td><td>list[f64]</td></tr></thead><tbody><tr><td>&quot;Einakter Datab…</td><td>1</td><td>2306</td><td>14.200781</td><td>[13.9549, 14.466175]</td></tr><tr><td>&quot;GerDraCor&quot;</td><td>2</td><td>31</td><td>13.758065</td><td>[11.532258, 16.040565]</td></tr><tr><td>&quot;GerDraCor&quot;</td><td>3</td><td>69</td><td>10.318841</td><td>[9.062802, 11.62359]</td></tr><tr><td>&quot;GerDraCor&quot;</td><td>4</td><td>28</td><td>9.044643</td><td>[7.383929, 10.732143]</td></tr><tr><td>&quot;GerDraCor&quot;</td><td>5</td><td>140</td><td>6.97</td><td>[6.34, 7.668571]</td></tr><tr><td>&quot;GerDraCor&quot;</td><td>99</td><td>268</td><td>8.834142</td><td>[8.219247, 9.500333]</td></tr></tbody></table></div>"
      ],
      "text/plain": [
       "shape: (6, 5)\n",
       "┌───────────────────┬────────┬──────┬─────────────────────┬────────────────────────┐\n",
       "│ Dataset           ┆ acts_n ┆ n    ┆ scenes_per_act_mean ┆ ci                     │\n",
       "│ ---               ┆ ---    ┆ ---  ┆ ---                 ┆ ---                    │\n",
       "│ str               ┆ i64    ┆ u32  ┆ f64                 ┆ list[f64]              │\n",
       "╞═══════════════════╪════════╪══════╪═════════════════════╪════════════════════════╡\n",
       "│ Einakter Database ┆ 1      ┆ 2306 ┆ 14.200781           ┆ [13.9549, 14.466175]   │\n",
       "│ GerDraCor         ┆ 2      ┆ 31   ┆ 13.758065           ┆ [11.532258, 16.040565] │\n",
       "│ GerDraCor         ┆ 3      ┆ 69   ┆ 10.318841           ┆ [9.062802, 11.62359]   │\n",
       "│ GerDraCor         ┆ 4      ┆ 28   ┆ 9.044643            ┆ [7.383929, 10.732143]  │\n",
       "│ GerDraCor         ┆ 5      ┆ 140  ┆ 6.97                ┆ [6.34, 7.668571]       │\n",
       "│ GerDraCor         ┆ 99     ┆ 268  ┆ 8.834142            ┆ [8.219247, 9.500333]   │\n",
       "└───────────────────┴────────┴──────┴─────────────────────┴────────────────────────┘"
      ]
     },
     "execution_count": 6,
     "metadata": {},
     "output_type": "execute_result"
    }
   ],
   "source": [
    "# A version of the dataset that also includes GerDraCor 2--5 acts_n as acts_n=99\n",
    "einakter_and_gerdracor_q2_with_99 = pl.concat(\n",
    "    [\n",
    "        einakter_and_gerdracor_q2,\n",
    "        # Duplicate as acts_n=99\n",
    "        einakter_and_gerdracor_q2.filter(pl.col(\"Dataset\") == \"GerDraCor\").with_columns(\n",
    "            acts_n=pl.lit(99)\n",
    "        ),\n",
    "    ],\n",
    "    how=\"vertical_relaxed\",\n",
    ")\n",
    "\n",
    "scenes_per_act_agg = (\n",
    "    einakter_and_gerdracor_q2_with_99.group_by(\"acts_n\", \"Dataset\")\n",
    "    .agg(\n",
    "        pl.len().alias(\"n\"),\n",
    "        pl.mean(\"scenes_per_act\").name.suffix(\"_mean\"),\n",
    "        # Calculate bootstrapped confidence intervals\n",
    "        ci=pl.col(\"scenes_per_act\").map_elements(\n",
    "            lambda x: stats.bootstrap(\n",
    "                (x,),\n",
    "                np.mean,\n",
    "                confidence_level=confidence_level,\n",
    "                n_resamples=10_000,\n",
    "                method=\"BCa\",\n",
    "                random_state=42,  # For reproducibility\n",
    "            ).confidence_interval,\n",
    "        ),\n",
    "    )\n",
    "    .select(\"Dataset\", \"acts_n\", \"n\", \"scenes_per_act_mean\", \"ci\")\n",
    "    .sort(\"acts_n\")\n",
    ")\n",
    "scenes_per_act_agg"
   ]
  },
  {
   "cell_type": "code",
   "execution_count": 7,
   "metadata": {},
   "outputs": [
    {
     "name": "stdout",
     "output_type": "stream",
     "text": [
      "Saved to latex/scenes_per_act.tex\n"
     ]
    }
   ],
   "source": [
    "to_latex(\n",
    "    scenes_per_act_agg.select(\n",
    "        \"Dataset\",\n",
    "        pl.col(\"acts_n\").alias(\"Number of acts\"),\n",
    "        pl.col(\"n\"),\n",
    "        pl.col(\"scenes_per_act_mean\").alias(\"Mean scenes per act\"),\n",
    "        \"ci\",\n",
    "    ),\n",
    "    caption=\"Mean number of scenes per act across Einakter Database and GerDraCor datasets, grouped by number of acts with bootstrapped confidence intervals.\",\n",
    "    label=\"tab:scenes_per_act\",\n",
    ")"
   ]
  },
  {
   "cell_type": "code",
   "execution_count": 8,
   "metadata": {},
   "outputs": [
    {
     "name": "stdout",
     "output_type": "stream",
     "text": [
      "acts_n = 1 vs acts_n = (1,)\n",
      "Mann-Whitney U Test: H=2658818.0, p=1.0\n",
      "There is no significant difference between the samples.\n",
      "acts_n = 1 vs acts_n = (2,)\n",
      "Mann-Whitney U Test: H=36957.0, p=0.7447772047256929\n",
      "There is no significant difference between the samples.\n",
      "acts_n = 1 vs acts_n = (3,)\n",
      "Mann-Whitney U Test: H=107787.5, p=4.776703373508861e-07\n",
      "There is a significant difference between the samples.\n",
      "acts_n = 1 vs acts_n = (4,)\n",
      "Mann-Whitney U Test: H=47753.0, p=1.2481965357718225e-05\n",
      "There is a significant difference between the samples.\n",
      "acts_n = 1 vs acts_n = (5,)\n",
      "Mann-Whitney U Test: H=269931.5, p=7.167934986799685e-41\n",
      "There is a significant difference between the samples.\n",
      "acts_n = 1 vs acts_n = (99,)\n",
      "Mann-Whitney U Test: H=462429.0, p=1.445313525609493e-40\n",
      "There is a significant difference between the samples.\n"
     ]
    }
   ],
   "source": [
    "# Perform a Mann-Whitney U test to compare the distributions of scenes per act across the datasets (pairwise)\n",
    "\n",
    "groups_dict = einakter_and_gerdracor_q2_with_99.sort(\"acts_n\").partition_by(\n",
    "    [\"acts_n\"], as_dict=True\n",
    ")\n",
    "\n",
    "# Do this for each pairing: acts_n==1 vs acts_n==[2,3,4,5]\n",
    "q2_mann_whitney = pl.DataFrame()\n",
    "for i in groups_dict.keys():\n",
    "    einakter_sample = groups_dict[1,][\"scenes_per_act\"]\n",
    "    comparison_sample = groups_dict[i][\"scenes_per_act\"]\n",
    "    print(\"acts_n = 1 vs acts_n =\", i)\n",
    "    result = mann_whitney(einakter_sample, comparison_sample)\n",
    "    q2_mann_whitney = q2_mann_whitney.vstack(\n",
    "        pl.DataFrame(\n",
    "            {\n",
    "                \"acts_n\": [i[0]],\n",
    "                \"statistic\": [result.statistic],\n",
    "                \"pvalue\": [result.pvalue],\n",
    "            }\n",
    "        )\n",
    "    )\n",
    "\n",
    "# Add significance markers\n",
    "q2_mann_whitney = q2_mann_whitney.with_columns(\n",
    "    sig=pl.col(\"pvalue\").map_elements(lambda p: \"***\" if p < 0.001 else \"**\" if p < 0.01 else \"*\" if p < 0.05 else \"ns\")\n",
    ")"
   ]
  },
  {
   "cell_type": "code",
   "execution_count": 9,
   "metadata": {},
   "outputs": [
    {
     "name": "stdout",
     "output_type": "stream",
     "text": [
      "Saved to latex/scenes_per_act_mann_whitney.tex\n"
     ]
    }
   ],
   "source": [
    "q2_results_with_mann_whitney = scenes_per_act_agg.join(\n",
    "    q2_mann_whitney, on=\"acts_n\", how=\"left\"\n",
    ").filter(pl.col(\"Dataset\") == \"GerDraCor\") # Use only GerDraCor for the table\n",
    "\n",
    "to_latex(\n",
    "    q2_results_with_mann_whitney.select(\n",
    "        \"Dataset\",\n",
    "        pl.col(\"acts_n\").alias(\"Number of acts\"),\n",
    "        pl.col(\"statistic\").alias(\"$U$\"),\n",
    "        pl.col(\"sig\").alias(\"\"),\n",
    "    ),\n",
    "    caption=\"Mann-Whitney U test results comparing the number of scenes per act between the Einakter Database and GerDraCor datasets. Significance levels: * $p < 0.05$, ** $p < 0.01$, *** $p < 0.001$, ns $p \\geq 0.05$.\",\n",
    "    label=\"tab:scenes_per_act_mann_whitney\",\n",
    "    na_rep=\"\",\n",
    ")"
   ]
  },
  {
   "cell_type": "code",
   "execution_count": 10,
   "metadata": {},
   "outputs": [
    {
     "data": {
      "image/png": "[encoded data removed]",
      "text/plain": [
       "<Figure size 700x400 with 1 Axes>"
      ]
     },
     "metadata": {},
     "output_type": "display_data"
    }
   ],
   "source": [
    "# Create histplot of scenes_per_act per dataset\n",
    "plot_data = (\n",
    "    einakter_and_gerdracor_q2.drop_nulls(\"scenes_per_act\")\n",
    "    .sort(\"Dataset\")\n",
    "    .to_pandas()\n",
    ")\n",
    "\n",
    "ax = sns.histplot(\n",
    "    plot_data,\n",
    "    x=\"scenes_per_act\",\n",
    "    hue=\"Dataset\",\n",
    "    stat=\"percent\",\n",
    "    multiple=\"layer\",\n",
    "    element=\"step\",\n",
    "    common_norm=False,  # Normalise each dataset separately\n",
    "    discrete=True,\n",
    "    palette=[dracor_blue, \"salmon\"],\n",
    ")\n",
    "plt.xlabel(\"Number of scenes per act\")\n",
    "plt.savefig(\"plots/gerdracor_scenes.png\", dpi=dpi)\n",
    "plt.show()"
   ]
  },
  {
   "cell_type": "markdown",
   "metadata": {},
   "source": [
    "## Q3 Number of characters\n",
    "\n",
    "Is there a difference in the number of characters between German one-act plays and other German plays of the same period?\n"
   ]
  },
  {
   "cell_type": "code",
   "execution_count": 11,
   "metadata": {},
   "outputs": [
    {
     "name": "stdout",
     "output_type": "stream",
     "text": [
      "Shapiro-Wilk Test: W=0.8773241669045071, p=4.718917680317186e-40\n",
      "The data is not normally distributed.\n",
      "Shapiro-Wilk Test: W=0.6040347245673656, p=1.834771485359684e-24\n",
      "The data is not normally distributed.\n"
     ]
    },
    {
     "data": {
      "text/html": [
       "<div><style>\n",
       ".dataframe > thead > tr,\n",
       ".dataframe > tbody > tr {\n",
       "  text-align: right;\n",
       "  white-space: pre-wrap;\n",
       "}\n",
       "</style>\n",
       "<small>shape: (2_856, 6)</small><table border=\"1\" class=\"dataframe\"><thead><tr><th>id</th><th>acts_n</th><th>scenes_n</th><th>characters_n</th><th>year_norm</th><th>Dataset</th></tr><tr><td>str</td><td>i64</td><td>i64</td><td>i64</td><td>i64</td><td>str</td></tr></thead><tbody><tr><td>&quot;ein000001&quot;</td><td>1</td><td>22</td><td>6</td><td>1842</td><td>&quot;Einakter Datab…</td></tr><tr><td>&quot;ein000002&quot;</td><td>1</td><td>17</td><td>7</td><td>1818</td><td>&quot;Einakter Datab…</td></tr><tr><td>&quot;ein000003&quot;</td><td>1</td><td>6</td><td>2</td><td>1821</td><td>&quot;Einakter Datab…</td></tr><tr><td>&quot;ein000004&quot;</td><td>1</td><td>14</td><td>5</td><td>1821</td><td>&quot;Einakter Datab…</td></tr><tr><td>&quot;ein000005&quot;</td><td>1</td><td>12</td><td>5</td><td>1819</td><td>&quot;Einakter Datab…</td></tr><tr><td>&hellip;</td><td>&hellip;</td><td>&hellip;</td><td>&hellip;</td><td>&hellip;</td><td>&hellip;</td></tr><tr><td>&quot;ger000295&quot;</td><td>4</td><td>39</td><td>26</td><td>1828</td><td>&quot;GerDraCor&quot;</td></tr><tr><td>&quot;ger000607&quot;</td><td>3</td><td>24</td><td>6</td><td>1836</td><td>&quot;GerDraCor&quot;</td></tr><tr><td>&quot;ger000505&quot;</td><td>2</td><td>9</td><td>7</td><td>1835</td><td>&quot;GerDraCor&quot;</td></tr><tr><td>&quot;ger000612&quot;</td><td>4</td><td>29</td><td>6</td><td>1825</td><td>&quot;GerDraCor&quot;</td></tr><tr><td>&quot;ger000275&quot;</td><td>5</td><td>39</td><td>17</td><td>1795</td><td>&quot;GerDraCor&quot;</td></tr></tbody></table></div>"
      ],
      "text/plain": [
       "shape: (2_856, 6)\n",
       "┌───────────┬────────┬──────────┬──────────────┬───────────┬───────────────────┐\n",
       "│ id        ┆ acts_n ┆ scenes_n ┆ characters_n ┆ year_norm ┆ Dataset           │\n",
       "│ ---       ┆ ---    ┆ ---      ┆ ---          ┆ ---       ┆ ---               │\n",
       "│ str       ┆ i64    ┆ i64      ┆ i64          ┆ i64       ┆ str               │\n",
       "╞═══════════╪════════╪══════════╪══════════════╪═══════════╪═══════════════════╡\n",
       "│ ein000001 ┆ 1      ┆ 22       ┆ 6            ┆ 1842      ┆ Einakter Database │\n",
       "│ ein000002 ┆ 1      ┆ 17       ┆ 7            ┆ 1818      ┆ Einakter Database │\n",
       "│ ein000003 ┆ 1      ┆ 6        ┆ 2            ┆ 1821      ┆ Einakter Database │\n",
       "│ ein000004 ┆ 1      ┆ 14       ┆ 5            ┆ 1821      ┆ Einakter Database │\n",
       "│ ein000005 ┆ 1      ┆ 12       ┆ 5            ┆ 1819      ┆ Einakter Database │\n",
       "│ …         ┆ …      ┆ …        ┆ …            ┆ …         ┆ …                 │\n",
       "│ ger000295 ┆ 4      ┆ 39       ┆ 26           ┆ 1828      ┆ GerDraCor         │\n",
       "│ ger000607 ┆ 3      ┆ 24       ┆ 6            ┆ 1836      ┆ GerDraCor         │\n",
       "│ ger000505 ┆ 2      ┆ 9        ┆ 7            ┆ 1835      ┆ GerDraCor         │\n",
       "│ ger000612 ┆ 4      ┆ 29       ┆ 6            ┆ 1825      ┆ GerDraCor         │\n",
       "│ ger000275 ┆ 5      ┆ 39       ┆ 17           ┆ 1795      ┆ GerDraCor         │\n",
       "└───────────┴────────┴──────────┴──────────────┴───────────┴───────────────────┘"
      ]
     },
     "execution_count": 11,
     "metadata": {},
     "output_type": "execute_result"
    }
   ],
   "source": [
    "# Check characters_n for normality per Dataset\n",
    "\n",
    "(\n",
    "    einakter_and_gerdracor.group_by(\"Dataset\").map_groups(\n",
    "        lambda df: shapiro_wilk(df[\"characters_n\"].drop_nulls()) and df\n",
    "    )\n",
    ")"
   ]
  },
  {
   "cell_type": "code",
   "execution_count": 12,
   "metadata": {},
   "outputs": [
    {
     "data": {
      "text/html": [
       "<div><style>\n",
       ".dataframe > thead > tr,\n",
       ".dataframe > tbody > tr {\n",
       "  text-align: right;\n",
       "  white-space: pre-wrap;\n",
       "}\n",
       "</style>\n",
       "<small>shape: (5, 5)</small><table border=\"1\" class=\"dataframe\"><thead><tr><th>Dataset</th><th>acts_n</th><th>plays</th><th>characters_n_mean</th><th>ci</th></tr><tr><td>str</td><td>i64</td><td>u32</td><td>f64</td><td>list[f64]</td></tr></thead><tbody><tr><td>&quot;Einakter Datab…</td><td>1</td><td>2416</td><td>7.059189</td><td>[6.940204, 7.186258]</td></tr><tr><td>&quot;GerDraCor&quot;</td><td>2</td><td>32</td><td>20.15625</td><td>[15.8125, 25.4375]</td></tr><tr><td>&quot;GerDraCor&quot;</td><td>3</td><td>70</td><td>19.571429</td><td>[16.614286, 23.76935]</td></tr><tr><td>&quot;GerDraCor&quot;</td><td>4</td><td>28</td><td>21.428571</td><td>[17.428571, 33.520329]</td></tr><tr><td>&quot;GerDraCor&quot;</td><td>5</td><td>140</td><td>28.492857</td><td>[24.311344, 35.247793]</td></tr></tbody></table></div>"
      ],
      "text/plain": [
       "shape: (5, 5)\n",
       "┌───────────────────┬────────┬───────┬───────────────────┬────────────────────────┐\n",
       "│ Dataset           ┆ acts_n ┆ plays ┆ characters_n_mean ┆ ci                     │\n",
       "│ ---               ┆ ---    ┆ ---   ┆ ---               ┆ ---                    │\n",
       "│ str               ┆ i64    ┆ u32   ┆ f64               ┆ list[f64]              │\n",
       "╞═══════════════════╪════════╪═══════╪═══════════════════╪════════════════════════╡\n",
       "│ Einakter Database ┆ 1      ┆ 2416  ┆ 7.059189          ┆ [6.940204, 7.186258]   │\n",
       "│ GerDraCor         ┆ 2      ┆ 32    ┆ 20.15625          ┆ [15.8125, 25.4375]     │\n",
       "│ GerDraCor         ┆ 3      ┆ 70    ┆ 19.571429         ┆ [16.614286, 23.76935]  │\n",
       "│ GerDraCor         ┆ 4      ┆ 28    ┆ 21.428571         ┆ [17.428571, 33.520329] │\n",
       "│ GerDraCor         ┆ 5      ┆ 140   ┆ 28.492857         ┆ [24.311344, 35.247793] │\n",
       "└───────────────────┴────────┴───────┴───────────────────┴────────────────────────┘"
      ]
     },
     "execution_count": 12,
     "metadata": {},
     "output_type": "execute_result"
    }
   ],
   "source": [
    "characters_n_agg = (\n",
    "    einakter_and_gerdracor.drop_nulls(\"characters_n\")\n",
    "    .group_by(\"Dataset\", \"acts_n\")\n",
    "    .agg(\n",
    "        pl.len().alias(\"plays\"),\n",
    "        pl.mean(\"characters_n\").name.suffix(\"_mean\"),\n",
    "        # Calculate bootstrapped confidence intervals\n",
    "        ci=pl.col(\"characters_n\").map_elements(\n",
    "            lambda x: stats.bootstrap(\n",
    "                (x,),\n",
    "                np.mean,\n",
    "                confidence_level=confidence_level,\n",
    "                n_resamples=10_000,\n",
    "                method=\"BCa\",\n",
    "                random_state=42,  # For reproducibility\n",
    "            ).confidence_interval,\n",
    "        ),\n",
    "    )\n",
    "    .sort(\"acts_n\")\n",
    ")\n",
    "\n",
    "characters_n_agg"
   ]
  },
  {
   "cell_type": "code",
   "execution_count": 13,
   "metadata": {},
   "outputs": [
    {
     "name": "stdout",
     "output_type": "stream",
     "text": [
      "Saved to latex/characters_gerdracor.tex\n"
     ]
    }
   ],
   "source": [
    "to_latex(\n",
    "    characters_n_agg.select(\n",
    "        \"Dataset\",\n",
    "        pl.col(\"acts_n\").alias(\"Number of acts\"),\n",
    "        pl.col(\"plays\").alias(\"n\"),\n",
    "        pl.col(\"characters_n_mean\").alias(\"Mean number of characters\"),\n",
    "        \"ci\",\n",
    "    ),\n",
    "    caption=\"Mean number of characters per play across Einakter Database and GerDraCor datasets with bootstrapped confidence intervals.\",\n",
    "    label=\"tab:characters_gerdracor\",\n",
    ")"
   ]
  },
  {
   "cell_type": "code",
   "execution_count": 14,
   "metadata": {},
   "outputs": [
    {
     "name": "stdout",
     "output_type": "stream",
     "text": [
      "acts_n = 1 vs acts_n = (1,)\n",
      "Mann-Whitney U Test: H=2918528.0, p=1.0\n",
      "There is no significant difference between the samples.\n",
      "acts_n = 1 vs acts_n = (2,)\n",
      "Mann-Whitney U Test: H=12813.5, p=5.476618577198213e-11\n",
      "There is a significant difference between the samples.\n",
      "acts_n = 1 vs acts_n = (3,)\n",
      "Mann-Whitney U Test: H=18434.5, p=2.1974408109949757e-29\n",
      "There is a significant difference between the samples.\n",
      "acts_n = 1 vs acts_n = (4,)\n",
      "Mann-Whitney U Test: H=3343.5, p=1.2871449261369064e-16\n",
      "There is a significant difference between the samples.\n",
      "acts_n = 1 vs acts_n = (5,)\n",
      "Mann-Whitney U Test: H=28585.5, p=2.1382951176560105e-62\n",
      "There is a significant difference between the samples.\n"
     ]
    },
    {
     "data": {
      "text/html": [
       "<div><style>\n",
       ".dataframe > thead > tr,\n",
       ".dataframe > tbody > tr {\n",
       "  text-align: right;\n",
       "  white-space: pre-wrap;\n",
       "}\n",
       "</style>\n",
       "<small>shape: (5, 4)</small><table border=\"1\" class=\"dataframe\"><thead><tr><th>acts_n</th><th>statistic</th><th>pvalue</th><th>sig</th></tr><tr><td>i64</td><td>f64</td><td>f64</td><td>str</td></tr></thead><tbody><tr><td>1</td><td>2.918528e6</td><td>1.0</td><td>&quot;ns&quot;</td></tr><tr><td>2</td><td>12813.5</td><td>5.4766e-11</td><td>&quot;***&quot;</td></tr><tr><td>3</td><td>18434.5</td><td>2.1974e-29</td><td>&quot;***&quot;</td></tr><tr><td>4</td><td>3343.5</td><td>1.2871e-16</td><td>&quot;***&quot;</td></tr><tr><td>5</td><td>28585.5</td><td>2.1383e-62</td><td>&quot;***&quot;</td></tr></tbody></table></div>"
      ],
      "text/plain": [
       "shape: (5, 4)\n",
       "┌────────┬────────────┬────────────┬─────┐\n",
       "│ acts_n ┆ statistic  ┆ pvalue     ┆ sig │\n",
       "│ ---    ┆ ---        ┆ ---        ┆ --- │\n",
       "│ i64    ┆ f64        ┆ f64        ┆ str │\n",
       "╞════════╪════════════╪════════════╪═════╡\n",
       "│ 1      ┆ 2.918528e6 ┆ 1.0        ┆ ns  │\n",
       "│ 2      ┆ 12813.5    ┆ 5.4766e-11 ┆ *** │\n",
       "│ 3      ┆ 18434.5    ┆ 2.1974e-29 ┆ *** │\n",
       "│ 4      ┆ 3343.5     ┆ 1.2871e-16 ┆ *** │\n",
       "│ 5      ┆ 28585.5    ┆ 2.1383e-62 ┆ *** │\n",
       "└────────┴────────────┴────────────┴─────┘"
      ]
     },
     "execution_count": 14,
     "metadata": {},
     "output_type": "execute_result"
    }
   ],
   "source": [
    "# Conduct a Mann-Whitney U test to compare the distributions of characters per play across the datasets (pairwise)\n",
    "\n",
    "groups_dict = einakter_and_gerdracor.sort(\"acts_n\").drop_nulls(\"characters_n\").partition_by(\n",
    "    [\"acts_n\"], as_dict=True\n",
    ")\n",
    "\n",
    "q3_mann_whitney = pl.DataFrame()\n",
    "for i in groups_dict.keys():\n",
    "    einakter_sample = groups_dict[1,][\"characters_n\"]\n",
    "    comparison_sample = groups_dict[i][\"characters_n\"]\n",
    "    print(\"acts_n = 1 vs acts_n =\", i)\n",
    "    result = mann_whitney(einakter_sample, comparison_sample)\n",
    "    q3_mann_whitney = q3_mann_whitney.vstack(\n",
    "        pl.DataFrame(\n",
    "            {\n",
    "                \"acts_n\": [i[0]],\n",
    "                \"statistic\": [result.statistic],\n",
    "                \"pvalue\": [result.pvalue],\n",
    "            }\n",
    "        )\n",
    "    )\n",
    "\n",
    "# Add significance markers\n",
    "q3_mann_whitney = q3_mann_whitney.with_columns(\n",
    "    sig=pl.col(\"pvalue\").map_elements(lambda p: \"***\" if p < 0.001 else \"**\" if p < 0.01 else \"*\" if p < 0.05 else \"ns\")\n",
    ")\n",
    "q3_mann_whitney"
   ]
  },
  {
   "cell_type": "code",
   "execution_count": 15,
   "metadata": {},
   "outputs": [
    {
     "name": "stdout",
     "output_type": "stream",
     "text": [
      "Saved to latex/characters_gerdracor_mann_whitney.tex\n"
     ]
    }
   ],
   "source": [
    "q3_results_with_mann_whitney = characters_n_agg.join(\n",
    "    q3_mann_whitney, on=\"acts_n\", how=\"left\"\n",
    ").filter(pl.col(\"Dataset\") == \"GerDraCor\") # Use only GerDraCor for the table\n",
    "\n",
    "to_latex(\n",
    "    q3_results_with_mann_whitney.select(\n",
    "        \"Dataset\",\n",
    "        pl.col(\"acts_n\").alias(\"Number of acts\"),\n",
    "        pl.col(\"statistic\").alias(\"$U$\"),\n",
    "        pl.col(\"sig\").alias(\"\"),\n",
    "    ),\n",
    "    caption=\"Mann-Whitney U test results comparing the number of characters between the Einakter Database and GerDraCor datasets. Significance levels: * $p < 0.05$, ** $p < 0.01$, *** $p < 0.001$, ns $p \\geq 0.05$.\",\n",
    "    label=\"tab:characters_gerdracor_mann_whitney\",\n",
    "    na_rep=\"\",\n",
    ")"
   ]
  },
  {
   "cell_type": "code",
   "execution_count": 16,
   "metadata": {},
   "outputs": [
    {
     "data": {
      "image/png": "[encoded data removed]",
      "text/plain": [
       "<Figure size 700x400 with 1 Axes>"
      ]
     },
     "metadata": {},
     "output_type": "display_data"
    }
   ],
   "source": [
    "# Create histplot of characters_n per dataset\n",
    "plot_data = (\n",
    "    einakter_and_gerdracor.drop_nulls(\"characters_n\")\n",
    "    .rename(\n",
    "        # Make labels friendlier\n",
    "        {\n",
    "            \"acts_n\": \"Number of acts\",\n",
    "        }\n",
    "    )\n",
    "    .sort(\"Dataset\")\n",
    "    .to_pandas()\n",
    ")\n",
    "\n",
    "ax = sns.histplot(\n",
    "    plot_data,\n",
    "    x=\"characters_n\",\n",
    "    hue=\"Dataset\",\n",
    "    stat=\"percent\",\n",
    "    multiple=\"layer\",\n",
    "    element=\"step\",\n",
    "    common_norm=False,  # Normalise each dataset separately\n",
    "    discrete=True,\n",
    "    palette=[dracor_blue, \"salmon\"],\n",
    ")\n",
    "max_x = 50\n",
    "# plt.title(\"Distribution of number of characters in the Einakter Database and GerDraCor\")\n",
    "plt.xlabel(f\"Number of characters (axis limited to {max_x})\")\n",
    "ax.set_xlim(\n",
    "    0, max_x\n",
    ")  # We do this as an axis limit, not a filter in order not to distort relative stats, e.g. percent or density\n",
    "ax.set_xticks(range(0, max_x + 1, 5))\n",
    "\n",
    "plt.savefig(\"plots/gerdracor_characters.png\", dpi=dpi)\n",
    "plt.show()"
   ]
  },
  {
   "cell_type": "markdown",
   "metadata": {},
   "source": [
    "## Q3a Pazarkaya’s sample\n",
    "\n",
    "Did Pazarkaya’s sample give a representative picture of the number of characters in German one-act plays of the period under investigation?"
   ]
  },
  {
   "cell_type": "code",
   "execution_count": 17,
   "metadata": {},
   "outputs": [
    {
     "data": {
      "text/html": [
       "<div><style>\n",
       ".dataframe > thead > tr,\n",
       ".dataframe > tbody > tr {\n",
       "  text-align: right;\n",
       "  white-space: pre-wrap;\n",
       "}\n",
       "</style>\n",
       "<small>shape: (2_637, 3)</small><table border=\"1\" class=\"dataframe\"><thead><tr><th>numberOfCharacters</th><th>Dataset</th><th>n</th></tr><tr><td>i64</td><td>str</td><td>u32</td></tr></thead><tbody><tr><td>6</td><td>&quot;Einakter Datab…</td><td>2416</td></tr><tr><td>7</td><td>&quot;Einakter Datab…</td><td>2416</td></tr><tr><td>2</td><td>&quot;Einakter Datab…</td><td>2416</td></tr><tr><td>5</td><td>&quot;Einakter Datab…</td><td>2416</td></tr><tr><td>5</td><td>&quot;Einakter Datab…</td><td>2416</td></tr><tr><td>&hellip;</td><td>&hellip;</td><td>&hellip;</td></tr><tr><td>12</td><td>&quot;Pazarkaya&quot;</td><td>221</td></tr><tr><td>12</td><td>&quot;Pazarkaya&quot;</td><td>221</td></tr><tr><td>13</td><td>&quot;Pazarkaya&quot;</td><td>221</td></tr><tr><td>13</td><td>&quot;Pazarkaya&quot;</td><td>221</td></tr><tr><td>14</td><td>&quot;Pazarkaya&quot;</td><td>221</td></tr></tbody></table></div>"
      ],
      "text/plain": [
       "shape: (2_637, 3)\n",
       "┌────────────────────┬───────────────────┬──────┐\n",
       "│ numberOfCharacters ┆ Dataset           ┆ n    │\n",
       "│ ---                ┆ ---               ┆ ---  │\n",
       "│ i64                ┆ str               ┆ u32  │\n",
       "╞════════════════════╪═══════════════════╪══════╡\n",
       "│ 6                  ┆ Einakter Database ┆ 2416 │\n",
       "│ 7                  ┆ Einakter Database ┆ 2416 │\n",
       "│ 2                  ┆ Einakter Database ┆ 2416 │\n",
       "│ 5                  ┆ Einakter Database ┆ 2416 │\n",
       "│ 5                  ┆ Einakter Database ┆ 2416 │\n",
       "│ …                  ┆ …                 ┆ …    │\n",
       "│ 12                 ┆ Pazarkaya         ┆ 221  │\n",
       "│ 12                 ┆ Pazarkaya         ┆ 221  │\n",
       "│ 13                 ┆ Pazarkaya         ┆ 221  │\n",
       "│ 13                 ┆ Pazarkaya         ┆ 221  │\n",
       "│ 14                 ┆ Pazarkaya         ┆ 221  │\n",
       "└────────────────────┴───────────────────┴──────┘"
      ]
     },
     "execution_count": 17,
     "metadata": {},
     "output_type": "execute_result"
    }
   ],
   "source": [
    "# Initialise Pazarkaya data\n",
    "pazarkaya = (\n",
    "    pl.DataFrame(\n",
    "        {\n",
    "            \"numberOfCharacters\": [2, 3, 4, 5, 6, 7, 8, 9, 10, 11, 12, 13, 14],\n",
    "            \"count\": [2, 21, 28, 41, 44, 30, 27, 17, 5, 1, 2, 2, 1],\n",
    "        }\n",
    "    )\n",
    "    .select(\n",
    "        # Convert to long format for plotting\n",
    "        pl.col(\"numberOfCharacters\").repeat_by(\"count\")\n",
    "    )\n",
    "    .explode(\"numberOfCharacters\")\n",
    ")\n",
    "\n",
    "# Add both to common dataframe with \"Dataset\" column\n",
    "einakter_pazarkaya_characters = (\n",
    "    pl.concat(\n",
    "        [\n",
    "            einakter.select(\"numberOfCharacters\").with_columns(\n",
    "                Dataset=pl.lit(\"Einakter Database\")\n",
    "            ),\n",
    "            pazarkaya.select(\"numberOfCharacters\").with_columns(\n",
    "                Dataset=pl.lit(\"Pazarkaya\")\n",
    "            ),\n",
    "        ],\n",
    "        how=\"vertical_relaxed\",\n",
    "    )\n",
    "    .drop_nulls(\"numberOfCharacters\")\n",
    "    .with_columns(n=pl.len().over(\"Dataset\"))\n",
    ")\n",
    "einakter_pazarkaya_characters"
   ]
  },
  {
   "cell_type": "code",
   "execution_count": 18,
   "metadata": {},
   "outputs": [
    {
     "data": {
      "text/html": [
       "<div><style>\n",
       ".dataframe > thead > tr,\n",
       ".dataframe > tbody > tr {\n",
       "  text-align: right;\n",
       "  white-space: pre-wrap;\n",
       "}\n",
       "</style>\n",
       "<small>shape: (2, 4)</small><table border=\"1\" class=\"dataframe\"><thead><tr><th>Dataset</th><th>n</th><th>numberOfCharacters_mean</th><th>ci</th></tr><tr><td>str</td><td>u32</td><td>f64</td><td>list[f64]</td></tr></thead><tbody><tr><td>&quot;Pazarkaya&quot;</td><td>221</td><td>6.117647</td><td>[5.850679, 6.411765]</td></tr><tr><td>&quot;Einakter Datab…</td><td>2416</td><td>7.059189</td><td>[6.940204, 7.186258]</td></tr></tbody></table></div>"
      ],
      "text/plain": [
       "shape: (2, 4)\n",
       "┌───────────────────┬──────┬─────────────────────────┬──────────────────────┐\n",
       "│ Dataset           ┆ n    ┆ numberOfCharacters_mean ┆ ci                   │\n",
       "│ ---               ┆ ---  ┆ ---                     ┆ ---                  │\n",
       "│ str               ┆ u32  ┆ f64                     ┆ list[f64]            │\n",
       "╞═══════════════════╪══════╪═════════════════════════╪══════════════════════╡\n",
       "│ Pazarkaya         ┆ 221  ┆ 6.117647                ┆ [5.850679, 6.411765] │\n",
       "│ Einakter Database ┆ 2416 ┆ 7.059189                ┆ [6.940204, 7.186258] │\n",
       "└───────────────────┴──────┴─────────────────────────┴──────────────────────┘"
      ]
     },
     "execution_count": 18,
     "metadata": {},
     "output_type": "execute_result"
    }
   ],
   "source": [
    "# Calculate confidence intervals per dataset\n",
    "characters_n_q3a = (\n",
    "    einakter_pazarkaya_characters\n",
    "    .group_by(\"Dataset\")\n",
    "    .agg(\n",
    "        pl.len().alias(\"n\"),\n",
    "        pl.mean(\"numberOfCharacters\").name.suffix(\"_mean\"),\n",
    "        # Calculate bootstrapped confidence intervals\n",
    "        ci=pl.col(\"numberOfCharacters\").map_elements(\n",
    "            lambda x: stats.bootstrap(\n",
    "                (x,),\n",
    "                np.mean,\n",
    "                confidence_level=confidence_level,\n",
    "                n_resamples=10_000,\n",
    "                method=\"BCa\",\n",
    "                random_state=42,  # For reproducibility\n",
    "            ).confidence_interval,\n",
    "        ),\n",
    "    )\n",
    ")\n",
    "characters_n_q3a"
   ]
  },
  {
   "cell_type": "code",
   "execution_count": 19,
   "metadata": {},
   "outputs": [
    {
     "name": "stdout",
     "output_type": "stream",
     "text": [
      "Saved to latex/characters_pazarkaya.tex\n"
     ]
    }
   ],
   "source": [
    "to_latex(\n",
    "    characters_n_q3a.select(\n",
    "        \"Dataset\",\n",
    "        pl.col(\"n\"),\n",
    "        pl.col(\"numberOfCharacters_mean\").alias(\"Mean number of characters\"),\n",
    "        \"ci\",\n",
    "    ).sort(\"Dataset\"),\n",
    "    caption=\"Mean number of characters per play in Einakter Database and Pazarkaya’s samples with bootstrapped confidence intervals.\",\n",
    "    label=\"tab:characters_pazarkaya\",\n",
    ")"
   ]
  },
  {
   "cell_type": "code",
   "execution_count": 20,
   "metadata": {},
   "outputs": [
    {
     "data": {
      "image/png": "[encoded data removed]",
      "text/plain": [
       "<Figure size 700x400 with 1 Axes>"
      ]
     },
     "metadata": {},
     "output_type": "display_data"
    }
   ],
   "source": [
    "# Histogram\n",
    "max_x = 20\n",
    "ax = sns.histplot(\n",
    "    einakter_pazarkaya_characters,\n",
    "    x=\"numberOfCharacters\",\n",
    "    stat=\"count\",\n",
    "    common_norm=False,  # Normalise each dataset separately\n",
    "    discrete=True,\n",
    "    hue=\"Dataset\",\n",
    "    element=\"step\",\n",
    "    multiple=\"layer\",\n",
    "    palette=[dracor_blue, \"salmon\"],\n",
    "    hue_order=einakter_pazarkaya_characters.get_column(\"Dataset\").unique().sort(),\n",
    ")\n",
    "plt.xlabel(f\"Number of characters (axis limited to {max_x})\")\n",
    "ax.set_xlim(\n",
    "    0, max_x\n",
    ")  # We do this as an axis limit, not a filter in order not to distort relative stats, e.g. percent or density\n",
    "ax.set_xticks(range(0, max_x + 1, 2))\n",
    "\n",
    "# Add confidence intervals\n",
    "for dataset in einakter_pazarkaya_characters.get_column(\"Dataset\").unique().sort():\n",
    "    # Add mean \n",
    "    plt.axvline(\n",
    "        characters_n_q3a.filter(pl.col(\"Dataset\") == dataset)[\"numberOfCharacters_mean\"][0],\n",
    "        color=dracor_blue if dataset == \"Einakter Database\" else \"salmon\",\n",
    "        linestyle=\"-\",\n",
    "    )\n",
    "    # Add CIs\n",
    "    ci_low, ci_high = characters_n_q3a.filter(pl.col(\"Dataset\") == dataset)[\"ci\"][0]\n",
    "    for ci in [ci_low, ci_high]:\n",
    "        plt.axvline(ci, color=dracor_blue if dataset == \"Einakter Database\" else \"salmon\", linestyle=\"--\")\n",
    "\n",
    "plt.savefig(\"plots/pazarkaya_characters.png\", dpi=dpi)\n",
    "plt.show()"
   ]
  },
  {
   "cell_type": "code",
   "execution_count": 21,
   "metadata": {},
   "outputs": [
    {
     "name": "stdout",
     "output_type": "stream",
     "text": [
      "Mann-Whitney U Test: H=313403.5, p=1.5485910008555e-05\n",
      "There is a significant difference between the samples.\n"
     ]
    },
    {
     "data": {
      "text/html": [
       "<div><style>\n",
       ".dataframe > thead > tr,\n",
       ".dataframe > tbody > tr {\n",
       "  text-align: right;\n",
       "  white-space: pre-wrap;\n",
       "}\n",
       "</style>\n",
       "<small>shape: (1, 3)</small><table border=\"1\" class=\"dataframe\"><thead><tr><th>statistic</th><th>pvalue</th><th>sig</th></tr><tr><td>f64</td><td>f64</td><td>str</td></tr></thead><tbody><tr><td>313403.5</td><td>0.000015</td><td>&quot;***&quot;</td></tr></tbody></table></div>"
      ],
      "text/plain": [
       "shape: (1, 3)\n",
       "┌───────────┬──────────┬─────┐\n",
       "│ statistic ┆ pvalue   ┆ sig │\n",
       "│ ---       ┆ ---      ┆ --- │\n",
       "│ f64       ┆ f64      ┆ str │\n",
       "╞═══════════╪══════════╪═════╡\n",
       "│ 313403.5  ┆ 0.000015 ┆ *** │\n",
       "└───────────┴──────────┴─────┘"
      ]
     },
     "execution_count": 21,
     "metadata": {},
     "output_type": "execute_result"
    }
   ],
   "source": [
    "# Calculate Mann-Whitney U test for the number of characters per play between the Einakter Database and Pazarkaya’s sample\n",
    "\n",
    "groups_dict = einakter_pazarkaya_characters.sort(\"Dataset\").partition_by(\n",
    "    [\"Dataset\"], as_dict=True\n",
    ")\n",
    "\n",
    "# Do this for each pairing: acts_n==1 vs acts_n==[2,3,4,5]\n",
    "einakter_chars = groups_dict[\"Einakter Database\",][\"numberOfCharacters\"]\n",
    "pazarkaya_chars = groups_dict[\"Pazarkaya\",][\"numberOfCharacters\"]\n",
    "result = mann_whitney(einakter_chars, pazarkaya_chars)\n",
    "pazarkaya_mann_whitney = pl.DataFrame(\n",
    "    {\n",
    "        \"statistic\": [result.statistic],\n",
    "        \"pvalue\": [result.pvalue],\n",
    "    }\n",
    ").with_columns(\n",
    "# Add significance markers\n",
    "    sig=pl.col(\"pvalue\").map_elements(\n",
    "        lambda p: (\n",
    "            \"***\" if p < 0.001 else \"**\" if p < 0.01 else \"*\" if p < 0.05 else \"ns\"\n",
    "        )\n",
    "    )\n",
    ")\n",
    "pazarkaya_mann_whitney"
   ]
  },
  {
   "cell_type": "markdown",
   "metadata": {},
   "source": [
    "## Q4 Translations\n",
    "\n",
    "From which languages do one-act playwrights translate the most?\n"
   ]
  },
  {
   "cell_type": "code",
   "execution_count": 22,
   "metadata": {},
   "outputs": [
    {
     "data": {
      "text/html": [
       "<div><style>\n",
       ".dataframe > thead > tr,\n",
       ".dataframe > tbody > tr {\n",
       "  text-align: right;\n",
       "  white-space: pre-wrap;\n",
       "}\n",
       "</style>\n",
       "<small>shape: (9, 5)</small><table border=\"1\" class=\"dataframe\"><thead><tr><th>language</th><th>count</th><th>percent</th><th>language_label</th><th>ci</th></tr><tr><td>str</td><td>u32</td><td>f64</td><td>str</td><td>list[f64]</td></tr></thead><tbody><tr><td>&quot;fre&quot;</td><td>626</td><td>91.923642</td><td>&quot;French&quot;</td><td>[89.6, 93.9]</td></tr><tr><td>&quot;ita&quot;</td><td>16</td><td>2.349486</td><td>&quot;Italian&quot;</td><td>[1.35, 3.79]</td></tr><tr><td>&quot;dan&quot;</td><td>15</td><td>2.202643</td><td>&quot;Danish&quot;</td><td>[1.24, 3.61]</td></tr><tr><td>&quot;eng&quot;</td><td>9</td><td>1.321586</td><td>&quot;English&quot;</td><td>[0.606, 2.49]</td></tr><tr><td>&quot;spa&quot;</td><td>6</td><td>0.881057</td><td>&quot;Spanish&quot;</td><td>[0.324, 1.91]</td></tr><tr><td>&quot;dut&quot;</td><td>3</td><td>0.440529</td><td>&quot;Dutch&quot;</td><td>[0.0909, 1.28]</td></tr><tr><td>&quot;lat&quot;</td><td>3</td><td>0.440529</td><td>&quot;Latin&quot;</td><td>[0.0909, 1.28]</td></tr><tr><td>&quot;rus&quot;</td><td>2</td><td>0.293686</td><td>&quot;Russian&quot;</td><td>[0.0356, 1.06]</td></tr><tr><td>&quot;cze&quot;</td><td>1</td><td>0.146843</td><td>&quot;Czech&quot;</td><td>[0.00372, 0.815]</td></tr></tbody></table></div>"
      ],
      "text/plain": [
       "shape: (9, 5)\n",
       "┌──────────┬───────┬───────────┬────────────────┬──────────────────┐\n",
       "│ language ┆ count ┆ percent   ┆ language_label ┆ ci               │\n",
       "│ ---      ┆ ---   ┆ ---       ┆ ---            ┆ ---              │\n",
       "│ str      ┆ u32   ┆ f64       ┆ str            ┆ list[f64]        │\n",
       "╞══════════╪═══════╪═══════════╪════════════════╪══════════════════╡\n",
       "│ fre      ┆ 626   ┆ 91.923642 ┆ French         ┆ [89.6, 93.9]     │\n",
       "│ ita      ┆ 16    ┆ 2.349486  ┆ Italian        ┆ [1.35, 3.79]     │\n",
       "│ dan      ┆ 15    ┆ 2.202643  ┆ Danish         ┆ [1.24, 3.61]     │\n",
       "│ eng      ┆ 9     ┆ 1.321586  ┆ English        ┆ [0.606, 2.49]    │\n",
       "│ spa      ┆ 6     ┆ 0.881057  ┆ Spanish        ┆ [0.324, 1.91]    │\n",
       "│ dut      ┆ 3     ┆ 0.440529  ┆ Dutch          ┆ [0.0909, 1.28]   │\n",
       "│ lat      ┆ 3     ┆ 0.440529  ┆ Latin          ┆ [0.0909, 1.28]   │\n",
       "│ rus      ┆ 2     ┆ 0.293686  ┆ Russian        ┆ [0.0356, 1.06]   │\n",
       "│ cze      ┆ 1     ┆ 0.146843  ┆ Czech          ┆ [0.00372, 0.815] │\n",
       "└──────────┴───────┴───────────┴────────────────┴──────────────────┘"
      ]
     },
     "execution_count": 22,
     "metadata": {},
     "output_type": "execute_result"
    }
   ],
   "source": [
    "# Use basedOn column\n",
    "originals = (\n",
    "    einakter[\"basedOn\"]\n",
    "    .drop_nulls()  # Drop empty values\n",
    "    .explode()\n",
    "    .struct.unnest()\n",
    "    .drop_nulls(\"id\")  # Drop originals without an id (these are string-only values)\n",
    ")\n",
    "\n",
    "language_mapping = {\n",
    "    \"cze\": \"Czech\",\n",
    "    \"dan\": \"Danish\",\n",
    "    \"dut\": \"Dutch\",\n",
    "    \"eng\": \"English\",\n",
    "    \"fre\": \"French\",\n",
    "    \"ita\": \"Italian\",\n",
    "    \"lat\": \"Latin\",\n",
    "    \"rus\": \"Russian\",\n",
    "    \"spa\": \"Spanish\",\n",
    "}\n",
    "\n",
    "originals_languages_agg = (\n",
    "    originals.select(pl.col(\"language\").value_counts(sort=True))\n",
    "    .unnest(\"language\")\n",
    "    .with_columns(\n",
    "        percent=pl.col(\"count\") / pl.col(\"count\").sum() * 100,\n",
    "        language_label=pl.col(\"language\").replace(language_mapping),\n",
    "    )\n",
    ")\n",
    "\n",
    "\n",
    "originals_languages_agg = originals_languages_agg.with_columns(\n",
    "    # Calculate binomial CI\n",
    "    ci=pl.col(\"count\")\n",
    "    .map_elements(\n",
    "        lambda k: stats.binomtest(k, originals.height).proportion_ci(\n",
    "            confidence_level, method=\"exact\"  # Use Clopper-Pearson method\n",
    "        ),\n",
    "        return_dtype=pl.List(pl.Float64),\n",
    "    )\n",
    "    .list.eval((pl.element() * 100).round_sig_figs(3))\n",
    ")\n",
    "\n",
    "originals_languages_agg"
   ]
  },
  {
   "cell_type": "code",
   "execution_count": 23,
   "metadata": {},
   "outputs": [
    {
     "name": "stdout",
     "output_type": "stream",
     "text": [
      "Saved to latex/originals_languages.tex\n"
     ]
    }
   ],
   "source": [
    "to_latex(\n",
    "    originals_languages_agg.select(\n",
    "        pl.col(\"language_label\").alias(\"Language\"),\n",
    "        pl.col(\"count\").alias(\"n\"),\n",
    "        pl.col(\"percent\").alias(\"Percent\"),\n",
    "        \"ci\",\n",
    "    ),\n",
    "    caption=\"Proportion of original languages of translated plays with binomial confidence intervals.\",\n",
    "    label=\"tab:originals_languages\",\n",
    ")"
   ]
  },
  {
   "cell_type": "code",
   "execution_count": 24,
   "metadata": {},
   "outputs": [
    {
     "name": "stderr",
     "output_type": "stream",
     "text": [
      "/nix/store/awsv0164k2zdf2m49knc8rj0w9dz9n9b-python3-3.11.9-env/lib/python3.11/site-packages/seaborn/axisgrid.py:123: UserWarning: Tight layout not applied. tight_layout cannot make axes height small enough to accommodate all axes decorations.\n",
      "  self._figure.tight_layout(*args, **kwargs)\n",
      "/nix/store/awsv0164k2zdf2m49knc8rj0w9dz9n9b-python3-3.11.9-env/lib/python3.11/site-packages/seaborn/axisgrid.py:123: UserWarning: Tight layout not applied. tight_layout cannot make axes height small enough to accommodate all axes decorations.\n",
      "  self._figure.tight_layout(*args, **kwargs)\n",
      "/nix/store/awsv0164k2zdf2m49knc8rj0w9dz9n9b-python3-3.11.9-env/lib/python3.11/site-packages/seaborn/axisgrid.py:123: UserWarning: Tight layout not applied. tight_layout cannot make axes height small enough to accommodate all axes decorations.\n",
      "  self._figure.tight_layout(*args, **kwargs)\n",
      "/nix/store/awsv0164k2zdf2m49knc8rj0w9dz9n9b-python3-3.11.9-env/lib/python3.11/site-packages/seaborn/axisgrid.py:123: UserWarning: Tight layout not applied. tight_layout cannot make axes height small enough to accommodate all axes decorations.\n",
      "  self._figure.tight_layout(*args, **kwargs)\n"
     ]
    },
    {
     "data": {
      "image/png": "[encoded data removed]",
      "text/plain": [
       "<Figure size 1400x800 with 8 Axes>"
      ]
     },
     "metadata": {},
     "output_type": "display_data"
    }
   ],
   "source": [
    "# Ridge plot (overlapping histograms)\n",
    "\n",
    "import seaborn as sns\n",
    "import matplotlib.pyplot as plt\n",
    "import polars as pl\n",
    "\n",
    "sns.set_theme(style=\"white\", rc={\"axes.facecolor\": (0, 0, 0, 0)}, font_scale=1.25)\n",
    "\n",
    "# Sort entries by mean year within category\n",
    "subtitles_by_mean_year = subtitles.with_columns(\n",
    "    mean_year=pl.col(\"normalizedYear\").mean().over(pl.col(\"category\")),\n",
    "    category_label=pl.col(\"category\") + \" (\" + pl.len().over(\"category\").cast(pl.Utf8) + \")\",\n",
    ").sort(\"mean_year\")\n",
    "\n",
    "pal = sns.cubehelix_palette(10, rot=-0.25, light=0.7)\n",
    "g = sns.FacetGrid(\n",
    "    subtitles_by_mean_year.to_pandas(),\n",
    "    row=\"category_label\",\n",
    "    hue=\"category_label\",\n",
    "    aspect=15,\n",
    "    height=0.5,\n",
    "    palette=pal,\n",
    ")\n",
    "\n",
    "# Draw histplot\n",
    "g.map(\n",
    "    sns.histplot,\n",
    "    \"normalizedYear\",\n",
    "    binwidth=2,\n",
    "    binrange=(1740, 1850),  # Use the same range for all plots\n",
    "    stat=\"proportion\",  # So bar heights sum to 1\n",
    "    clip_on=False,\n",
    "    fill=True,\n",
    "    alpha=1,\n",
    "    linewidth=1.5,\n",
    "    kde=True,\n",
    ")\n",
    "\n",
    "# passing color=None to refline() uses the hue mapping\n",
    "g.refline(y=0, linewidth=2, linestyle=\"-\", color=None, clip_on=False)\n",
    "\n",
    "\n",
    "# Define and use a simple function to label the plot in axes coordinates\n",
    "def label(x, color, label):\n",
    "    ax = plt.gca()\n",
    "    ax.text(\n",
    "        0,\n",
    "        0.12,\n",
    "        label,\n",
    "        fontweight=\"bold\",\n",
    "        color=color,\n",
    "        ha=\"left\",\n",
    "        va=\"center\",\n",
    "        transform=ax.transAxes,\n",
    "    )\n",
    "\n",
    "\n",
    "g.map(label, \"normalizedYear\")\n",
    "\n",
    "# Set the subplots to overlap\n",
    "g.figure.subplots_adjust(hspace=-0.25)\n",
    "\n",
    "# Remove axes details that don't play well with overlap\n",
    "g.set_titles(\"\")\n",
    "g.set(yticks=[], ylabel=\"\")\n",
    "g.despine(bottom=True, left=True)\n",
    "\n",
    "# Set x-axis label\n",
    "plt.xlabel(\"Year (normalised)\")\n",
    "\n",
    "# Set figure size\n",
    "fig = plt.gcf()\n",
    "fig.set_size_inches(14, 8)\n",
    "\n",
    "plt.savefig(\"plots/ridgeplot.png\", dpi=dpi)"
   ]
  }
 ],
 "metadata": {
  "kernelspec": {
   "display_name": ".venv",
   "language": "python",
   "name": "python3"
  },
  "language_info": {
   "codemirror_mode": {
    "name": "ipython",
    "version": 3
   },
   "file_extension": ".py",
   "mimetype": "text/x-python",
   "name": "python",
   "nbconvert_exporter": "python",
   "pygments_lexer": "ipython3",
   "version": "3.11.9"
  }
 },
 "nbformat": 4,
 "nbformat_minor": 2
}
